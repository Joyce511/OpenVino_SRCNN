{
 "cells": [
  {
   "cell_type": "code",
   "execution_count": 51,
   "metadata": {},
   "outputs": [],
   "source": [
    "#!/usr/bin/env python\n",
    "import os\n",
    "import numpy as np\n",
    "import matplotlib.pyplot as plt\n",
    "%matplotlib inline\n",
    "import cv2"
   ]
  },
  {
   "cell_type": "code",
   "execution_count": 52,
   "metadata": {},
   "outputs": [],
   "source": [
    "from __future__ import print_function\n",
    "import sys\n",
    "import time\n",
    "\n",
    "from openvino.inference_engine import IENetwork, IEPlugin"
   ]
  },
  {
   "cell_type": "code",
   "execution_count": 53,
   "metadata": {},
   "outputs": [],
   "source": [
    "def colorize(y, ycrcb):\n",
    "    y[y>255] = 255\n",
    "    y[y<0] = 0\n",
    "\n",
    "    img = np.zeros((y.shape[0], y.shape[1], 3), np.uint8)\n",
    "    img[:,:,0] = y\n",
    "    img[:,:,1] = ycrcb[:,:,1]\n",
    "    img[:,:,2] = ycrcb[:,:,2]\n",
    "    img = cv2.cvtColor(img, cv2.COLOR_YCR_CB2RGB)\n",
    "    \n",
    "    return img\n",
    "\n",
    "# PSNR measure, from ANR's code\n",
    "def PSNR(pred, gt):\n",
    "    f = pred.astype(float)\n",
    "    g = gt.astype(float)\n",
    "    e = (f - g).flatten()\n",
    "    n = len(e)\n",
    "    rst = 10*np.log10(n/e.dot(e))\n",
    "    \n",
    "    return rst"
   ]
  },
  {
   "cell_type": "code",
   "execution_count": 54,
   "metadata": {},
   "outputs": [],
   "source": [
    "model_xml = \"/home/yue/caffe-rc5/examples/SRCNN/SRCNN_iter_11112465.xml\"\n",
    "model_bin = os.path.splitext(model_xml)[0] + \".bin\"\n",
    "prob_threshold = 0.5\n",
    "labels_map = None"
   ]
  },
  {
   "cell_type": "code",
   "execution_count": 55,
   "metadata": {},
   "outputs": [
    {
     "name": "stdout",
     "output_type": "stream",
     "text": [
      "Initializing plugin for CPU device...\n"
     ]
    }
   ],
   "source": [
    "print(\"Initializing plugin for CPU device...\")\n",
    "plugin = IEPlugin(device=\"CPU\", plugin_dirs=None)"
   ]
  },
  {
   "cell_type": "code",
   "execution_count": 56,
   "metadata": {},
   "outputs": [
    {
     "name": "stdout",
     "output_type": "stream",
     "text": [
      "Adding CPU extenstions...\n"
     ]
    }
   ],
   "source": [
    "print(\"Adding CPU extenstions...\")\n",
    "plugin.add_cpu_extension(\"/opt/intel/computer_vision_sdk/deployment_tools/inference_engine/lib/ubuntu_16.04/intel64/libcpu_extension_sse4.so\")"
   ]
  },
  {
   "cell_type": "code",
   "execution_count": 57,
   "metadata": {},
   "outputs": [
    {
     "name": "stdout",
     "output_type": "stream",
     "text": [
      "Reading IR...\n"
     ]
    }
   ],
   "source": [
    "print(\"Reading IR...\")\n",
    "net = IENetwork.from_ir(model=model_xml, weights=model_bin)\n",
    "input_blob = next(iter(net.inputs))\n",
    "out_blob = next(iter(net.outputs))"
   ]
  },
  {
   "cell_type": "code",
   "execution_count": 58,
   "metadata": {},
   "outputs": [
    {
     "name": "stdout",
     "output_type": "stream",
     "text": [
      "Loading IR to the plugin...\n"
     ]
    }
   ],
   "source": [
    "print(\"Loading IR to the plugin...\")\n",
    "exec_net = plugin.load(network=net, num_requests=2)\n",
    "# Read and pre-process input image\n",
    "n, c, h, w = net.inputs[input_blob]"
   ]
  },
  {
   "cell_type": "code",
   "execution_count": 59,
   "metadata": {},
   "outputs": [],
   "source": [
    "input_stream = \"/home/yue/caffe-rc5/examples/SRCNN/Test/videos/dance.mp4\"\n",
    "cap = cv2.VideoCapture(input_stream)\n",
    "cur_request_id = 0\n",
    "next_request_id = 1\n",
    "\n",
    "if (cap.isOpened()== False): \n",
    "  print(\"Error opening video stream or file\")\n",
    "\n",
    "render_time = 0\n",
    "total_time = 0\n",
    "fps = 0"
   ]
  },
  {
   "cell_type": "code",
   "execution_count": 60,
   "metadata": {},
   "outputs": [],
   "source": [
    "while cap.isOpened():\n",
    "        total_start = time.time()\n",
    "        ret, frame = cap.read()\n",
    "        if not ret:\n",
    "            break\n",
    "        \n",
    "        initial_w = cap.get(3)\n",
    "        initial_h = cap.get(4)\n",
    "        \n",
    "        im_raw = cv2.resize(frame, (w, h))\n",
    "\n",
    "        im_resize = im_raw.transpose((2, 0, 1))  # Change data layout from HWC to CHW\n",
    "\n",
    "        im_resize = cv2.resize(im_raw, (w, h))\n",
    "        ycrcb = cv2.cvtColor(im_resize, cv2.COLOR_RGB2YCR_CB)\n",
    "\n",
    "        #print('ycrcb.shape: ', ycrcb.shape)\n",
    "        im_resize = ycrcb[:,:,0]\n",
    "        im_resize = im_resize.reshape((im_resize.shape[0], im_resize.shape[1], 1))\n",
    "        #print('im_resize.shape: ', im_resize.shape)\n",
    "        im_input = im_resize\n",
    "\n",
    "        im_input = im_input.reshape((n, c, h, w))\n",
    "        #print('im_input.shape: ', im_input.shape)\n",
    "        infer_start = time.time()\n",
    "        res = exec_net.infer(inputs={input_blob: im_input})\n",
    "        det_time = time.time() - infer_start\n",
    "        mat = res['conv3']\n",
    "        mat = np.squeeze(mat, axis=0)\n",
    "        ycrcb = ycrcb[6:-6,6:-6,:]\n",
    "        im_pred = colorize(mat[0,:,:], ycrcb)\n",
    "        im_pred = cv2.resize(im_pred, (im_raw.shape[1],im_raw.shape[0]))\n",
    "        #################################################################################################################\n",
    "        # Draw performance stats\n",
    "\n",
    "        inf_time_message = \"Inference time: {:.3f} ms\".format(det_time * 1000)\n",
    "        render_time_message = \"OpenCV rendering time: {:.3f} ms\".format(render_time * 1000)\n",
    "        total_time_message = \"Total Time Taken per Frame: {:.3f} ms\".format(total_time * 1000)\n",
    "        fps_message = \"FPS: {:.1f}\".format(fps);\n",
    "\n",
    "        cv2.putText(im_pred, inf_time_message, (15, 15), cv2.FONT_HERSHEY_COMPLEX, 0.5, (200, 10, 10), 1)\n",
    "        cv2.putText(im_pred, render_time_message, (15, 30), cv2.FONT_HERSHEY_COMPLEX, 0.5, (10, 10, 200), 1)\n",
    "        cv2.putText(im_pred, total_time_message, (15, 45), cv2.FONT_HERSHEY_COMPLEX, 0.5, (10, 10, 200), 1)\n",
    "        cv2.putText(im_pred, fps_message, (15, 60), cv2.FONT_HERSHEY_COMPLEX, 0.5, (10, 10, 200), 1)\n",
    "        \n",
    "        \n",
    "        render_start = time.time()\n",
    "        cv2.imshow(\"SR\", im_pred)\n",
    "        cv2.imshow(\"Original\", im_raw)\n",
    "        render_end = time.time()\n",
    "        \n",
    "        render_time = render_end - render_start\n",
    "        total_time = render_end - total_start\n",
    "        \n",
    "        fps = float((1/total_time))\n",
    "        \n",
    "        key = cv2.waitKey(1)\n",
    "        if key == 27:\n",
    "            break\n",
    "            \n",
    "cv2.destroyAllWindows()\n",
    "del plugin"
   ]
  },
  {
   "cell_type": "code",
   "execution_count": null,
   "metadata": {},
   "outputs": [],
   "source": []
  },
  {
   "cell_type": "code",
   "execution_count": null,
   "metadata": {},
   "outputs": [],
   "source": []
  }
 ],
 "metadata": {
  "kernelspec": {
   "display_name": "Python 3",
   "language": "python",
   "name": "python3"
  },
  "language_info": {
   "codemirror_mode": {
    "name": "ipython",
    "version": 3
   },
   "file_extension": ".py",
   "mimetype": "text/x-python",
   "name": "python",
   "nbconvert_exporter": "python",
   "pygments_lexer": "ipython3",
   "version": "3.5.2"
  }
 },
 "nbformat": 4,
 "nbformat_minor": 1
}
