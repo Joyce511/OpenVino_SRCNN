{
 "cells": [
  {
   "cell_type": "code",
   "execution_count": 15,
   "metadata": {},
   "outputs": [],
   "source": [
    "#!/usr/bin/env python\n",
    "import os\n",
    "import numpy as np\n",
    "import matplotlib.pyplot as plt\n",
    "%matplotlib inline\n",
    "import cv2"
   ]
  },
  {
   "cell_type": "code",
   "execution_count": 16,
   "metadata": {},
   "outputs": [],
   "source": [
    "from __future__ import print_function\n",
    "import sys\n",
    "#from argparse import ArgumentParser\n",
    "import time\n",
    "\n",
    "from openvino.inference_engine import IENetwork, IEPlugin"
   ]
  },
  {
   "cell_type": "code",
   "execution_count": 17,
   "metadata": {},
   "outputs": [],
   "source": [
    "def colorize(y, ycrcb):\n",
    "    y[y>255] = 255\n",
    "    y[y<0] = 0\n",
    "\n",
    "    img = np.zeros((y.shape[0], y.shape[1], 3), np.uint8)\n",
    "    img[:,:,0] = y\n",
    "    img[:,:,1] = ycrcb[:,:,1]\n",
    "    img[:,:,2] = ycrcb[:,:,2]\n",
    "    img = cv2.cvtColor(img, cv2.COLOR_YCR_CB2RGB)\n",
    "    \n",
    "    return img\n",
    "\n",
    "# PSNR measure, from ANR's code\n",
    "def PSNR(pred, gt):\n",
    "    f = pred.astype(float)\n",
    "    g = gt.astype(float)\n",
    "    e = (f - g).flatten()\n",
    "    n = len(e)\n",
    "    rst = 10*np.log10(n/e.dot(e))\n",
    "    \n",
    "    return rst"
   ]
  },
  {
   "cell_type": "code",
   "execution_count": 18,
   "metadata": {},
   "outputs": [],
   "source": [
    "model_xml = \"/home/yue/caffe-rc5/examples/SRCNN/SRCNN_iter_11112465.xml\"\n",
    "model_bin = os.path.splitext(model_xml)[0] + \".bin\"\n",
    "prob_threshold = 0.5\n",
    "labels_map = None"
   ]
  },
  {
   "cell_type": "code",
   "execution_count": 19,
   "metadata": {},
   "outputs": [
    {
     "name": "stdout",
     "output_type": "stream",
     "text": [
      "Initializing plugin for CPU device...\n"
     ]
    }
   ],
   "source": [
    "print(\"Initializing plugin for CPU device...\")\n",
    "plugin = IEPlugin(device=\"CPU\", plugin_dirs=None)"
   ]
  },
  {
   "cell_type": "code",
   "execution_count": 20,
   "metadata": {},
   "outputs": [
    {
     "name": "stdout",
     "output_type": "stream",
     "text": [
      "Adding CPU extenstions...\n"
     ]
    }
   ],
   "source": [
    "print(\"Adding CPU extenstions...\")\n",
    "plugin.add_cpu_extension(\"/opt/intel/computer_vision_sdk/deployment_tools/inference_engine/lib/ubuntu_16.04/intel64/libcpu_extension_sse4.so\")"
   ]
  },
  {
   "cell_type": "code",
   "execution_count": 21,
   "metadata": {},
   "outputs": [
    {
     "name": "stdout",
     "output_type": "stream",
     "text": [
      "Reading IR...\n"
     ]
    }
   ],
   "source": [
    "print(\"Reading IR...\")\n",
    "net = IENetwork.from_ir(model=model_xml, weights=model_bin)\n",
    "input_blob = next(iter(net.inputs))\n",
    "out_blob = next(iter(net.outputs))"
   ]
  },
  {
   "cell_type": "code",
   "execution_count": 22,
   "metadata": {},
   "outputs": [
    {
     "name": "stdout",
     "output_type": "stream",
     "text": [
      "Loading IR to the plugin...\n"
     ]
    }
   ],
   "source": [
    "print(\"Loading IR to the plugin...\")\n",
    "exec_net = plugin.load(network=net, num_requests=2)\n",
    "# Read and pre-process input image\n",
    "n, c, h, w = net.inputs[input_blob]"
   ]
  },
  {
   "cell_type": "code",
   "execution_count": 23,
   "metadata": {},
   "outputs": [],
   "source": [
    "\n",
    "im_raw = cv2.imread('./Test/Set14/face_2.bmp')\n",
    "\n",
    "im_resize = im_raw.transpose((2, 0, 1))  # Change data layout from HWC to CHW\n",
    "\n",
    "im_resize = cv2.resize(im_raw, (w, h))\n",
    "ycrcb = cv2.cvtColor(im_resize, cv2.COLOR_RGB2YCR_CB)\n",
    "\n",
    "im_resize = ycrcb[:,:,0]\n",
    "im_resize = im_resize.reshape((im_resize.shape[0], im_resize.shape[1], 1))\n",
    "\n",
    "im_input = im_resize\n",
    "\n",
    "im_input = im_input.reshape((n, c, h, w))\n",
    "\n"
   ]
  },
  {
   "cell_type": "code",
   "execution_count": 24,
   "metadata": {},
   "outputs": [
    {
     "name": "stdout",
     "output_type": "stream",
     "text": [
      "Inference Time Spent:  53.05647850036621 ms\n"
     ]
    }
   ],
   "source": [
    "infer_start = time.time()\n",
    "res = exec_net.infer(inputs={input_blob: im_input})\n",
    "print('Inference Time Spent: ', (time.time() - infer_start)*1000, 'ms' )"
   ]
  },
  {
   "cell_type": "code",
   "execution_count": 25,
   "metadata": {},
   "outputs": [],
   "source": [
    "mat = res['conv3'];\n",
    "mat = np.squeeze(mat, axis=0)\n"
   ]
  },
  {
   "cell_type": "code",
   "execution_count": 26,
   "metadata": {},
   "outputs": [],
   "source": [
    "ycrcb = ycrcb[6:-6,6:-6,:]\n"
   ]
  },
  {
   "cell_type": "code",
   "execution_count": 27,
   "metadata": {},
   "outputs": [],
   "source": [
    "im_pred = colorize(mat[0,:,:], ycrcb)\n",
    "im_pred = cv2.resize(im_pred, (im_raw.shape[1],im_raw.shape[0]))"
   ]
  },
  {
   "cell_type": "code",
   "execution_count": 28,
   "metadata": {},
   "outputs": [],
   "source": [
    "cv2.imshow('prediction',im_pred)\n",
    "cv2.imshow('input', im_raw)\n",
    "cv2.waitKey(0)\n",
    "cv2.destroyAllWindows()"
   ]
  },
  {
   "cell_type": "code",
   "execution_count": null,
   "metadata": {},
   "outputs": [],
   "source": []
  }
 ],
 "metadata": {
  "kernelspec": {
   "display_name": "Python 3",
   "language": "python",
   "name": "python3"
  },
  "language_info": {
   "codemirror_mode": {
    "name": "ipython",
    "version": 3
   },
   "file_extension": ".py",
   "mimetype": "text/x-python",
   "name": "python",
   "nbconvert_exporter": "python",
   "pygments_lexer": "ipython3",
   "version": "3.5.2"
  }
 },
 "nbformat": 4,
 "nbformat_minor": 1
}
