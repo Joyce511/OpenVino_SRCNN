{
 "cells": [
  {
   "cell_type": "code",
   "execution_count": 13,
   "metadata": {},
   "outputs": [],
   "source": [
    "#!/usr/bin/env python\n",
    "import os\n",
    "import numpy as np\n",
    "import matplotlib.pyplot as plt\n",
    "import cv2\n",
    "%matplotlib inline\n",
    "# Make sure that caffe is on the python path:\n",
    "caffe_root = '/home/yue/caffe-rc5/'  # this file is expected to be in {caffe_root}/examples\n",
    "import sys\n",
    "sys.path.insert(0, caffe_root + 'python')\n",
    "\n",
    "import caffe\n",
    "import time"
   ]
  },
  {
   "cell_type": "code",
   "execution_count": 14,
   "metadata": {},
   "outputs": [],
   "source": [
    "def colorize(y, ycrcb):\n",
    "    y[y>255] = 255\n",
    "    y[y<0] = 0\n",
    "\n",
    "    img = np.zeros((y.shape[0], y.shape[1], 3), np.uint8)\n",
    "    img[:,:,0] = y\n",
    "    img[:,:,1] = ycrcb[:,:,1]\n",
    "    img[:,:,2] = ycrcb[:,:,2]\n",
    "    img = cv2.cvtColor(img, cv2.COLOR_YCR_CB2RGB)\n",
    "    \n",
    "    return img\n",
    "\n",
    "# PSNR measure, from ANR's code\n",
    "def PSNR(pred, gt):\n",
    "    f = pred.astype(float)\n",
    "    g = gt.astype(float)\n",
    "    e = (f - g).flatten()\n",
    "    n = len(e)\n",
    "    rst = 10*np.log10(n/e.dot(e))\n",
    "    \n",
    "    return rst"
   ]
  },
  {
   "cell_type": "code",
   "execution_count": 15,
   "metadata": {},
   "outputs": [
    {
     "name": "stderr",
     "output_type": "stream",
     "text": [
      "/home/yue/.local/lib/python3.5/site-packages/skimage/transform/_warps.py:105: UserWarning: The default mode, 'constant', will be changed to 'reflect' in skimage 0.15.\n",
      "  warn(\"The default mode, 'constant', will be changed to 'reflect' in \"\n",
      "/home/yue/.local/lib/python3.5/site-packages/skimage/transform/_warps.py:110: UserWarning: Anti-aliasing will be enabled by default in skimage 0.15 to avoid aliasing artifacts when down-sampling images.\n",
      "  warn(\"Anti-aliasing will be enabled by default in skimage 0.15 to \"\n"
     ]
    },
    {
     "name": "stdout",
     "output_type": "stream",
     "text": [
      "infer time:  801.3098239898682\n"
     ]
    }
   ],
   "source": [
    "net = caffe.Net(caffe_root + 'examples/SRCNN/SRCNN.prototxt',\n",
    "                       caffe_root + 'examples/SRCNN/SRCNN_iter_11112465.caffemodel', caffe.TEST)\n",
    "# Inputs\n",
    "im_raw = cv2.imread('./Test/Set14/face_2.bmp')\n",
    "\n",
    "\n",
    "im_resize = cv2.resize(im_raw, (586, 391))\n",
    "ycrcb = cv2.cvtColor(im_resize, cv2.COLOR_RGB2YCR_CB)\n",
    "\n",
    "im_resize = ycrcb[:,:,0]\n",
    "im_resize = im_resize.reshape((im_resize.shape[0], im_resize.shape[1], 1))\n",
    "\n",
    "# Switch input\n",
    "im_input = im_resize\n",
    "\n",
    "# plt.show()\n",
    "\n",
    "\n",
    "caffe_transformer = caffe.io.Transformer({'data': net.blobs['data'].data.shape})\n",
    "caffe_transformer.set_transpose('data', (2, 0, 1))\n",
    "caffe_transformer.set_raw_scale('data', 255.0)\n",
    "\n",
    "start_time = time.time()\n",
    "out = net.forward_all(data=np.asarray([caffe_transformer.preprocess('data', im_input.astype(float)/255)]))\n",
    "infer_time = (time.time() - start_time)*1000\n",
    "print('infer time: ', infer_time)\n",
    "\n",
    "# Predict results\n",
    "mat = out['conv3'][0]\n",
    "\n",
    "# Show\n",
    "\n",
    "ycrcb = ycrcb[5:-5,5:-5,:]\n",
    "im_pred = colorize(mat[0,:,:], ycrcb)\n",
    "im_pred = cv2.resize(im_pred, (im_raw.shape[1],im_raw.shape[0]))\n",
    "\n",
    "cv2.imshow('prediction',im_pred)\n",
    "cv2.imshow('input',im_raw)\n",
    "cv2.waitKey(0)\n",
    "cv2.destroyAllWindows()"
   ]
  },
  {
   "cell_type": "code",
   "execution_count": null,
   "metadata": {},
   "outputs": [],
   "source": []
  }
 ],
 "metadata": {
  "kernelspec": {
   "display_name": "Python 3",
   "language": "python",
   "name": "python3"
  },
  "language_info": {
   "codemirror_mode": {
    "name": "ipython",
    "version": 3
   },
   "file_extension": ".py",
   "mimetype": "text/x-python",
   "name": "python",
   "nbconvert_exporter": "python",
   "pygments_lexer": "ipython3",
   "version": "3.5.2"
  }
 },
 "nbformat": 4,
 "nbformat_minor": 1
}
