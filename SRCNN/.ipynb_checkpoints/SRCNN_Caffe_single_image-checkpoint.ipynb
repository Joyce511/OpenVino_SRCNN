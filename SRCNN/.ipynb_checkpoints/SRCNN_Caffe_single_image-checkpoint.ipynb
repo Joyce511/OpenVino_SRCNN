{
 "cells": [
  {
   "cell_type": "code",
   "execution_count": 7,
   "metadata": {},
   "outputs": [],
   "source": [
    "#!/usr/bin/env python\n",
    "import os\n",
    "import numpy as np\n",
    "import matplotlib.pyplot as plt\n",
    "import cv2\n",
    "%matplotlib inline\n",
    "# Make sure that caffe is on the python path:\n",
    "caffe_root = '/home/yue/caffe-rc5/'  # this file is expected to be in {caffe_root}/examples\n",
    "import sys\n",
    "sys.path.insert(0, caffe_root + 'python')\n",
    "\n",
    "import caffe\n",
    "import time"
   ]
  },
  {
   "cell_type": "code",
   "execution_count": 8,
   "metadata": {},
   "outputs": [],
   "source": [
    "def colorize(y, ycrcb):\n",
    "    y[y>255] = 255\n",
    "    y[y<0] = 0\n",
    "\n",
    "    img = np.zeros((y.shape[0], y.shape[1], 3), np.uint8)\n",
    "    img[:,:,0] = y\n",
    "    img[:,:,1] = ycrcb[:,:,1]\n",
    "    img[:,:,2] = ycrcb[:,:,2]\n",
    "    img = cv2.cvtColor(img, cv2.COLOR_YCR_CB2RGB)\n",
    "    \n",
    "    return img\n",
    "\n",
    "# PSNR measure, from ANR's code\n",
    "def PSNR(pred, gt):\n",
    "    f = pred.astype(float)\n",
    "    g = gt.astype(float)\n",
    "    e = (f - g).flatten()\n",
    "    n = len(e)\n",
    "    rst = 10*np.log10(n/e.dot(e))\n",
    "    \n",
    "    return rst"
   ]
  },
  {
   "cell_type": "code",
   "execution_count": 9,
   "metadata": {},
   "outputs": [
    {
     "ename": "error",
     "evalue": "OpenCV(3.4.2-openvino_2018_R2.0.0) /home/jenkins/workspace/OpenCV/OpenVINO/build/opencv/modules/imgproc/src/resize.cpp:4044: error: (-215:Assertion failed) !ssize.empty() in function 'resize'\n",
     "output_type": "error",
     "traceback": [
      "\u001b[0;31m---------------------------------------------------------------------------\u001b[0m",
      "\u001b[0;31merror\u001b[0m                                     Traceback (most recent call last)",
      "\u001b[0;32m<ipython-input-9-d46557f7dd46>\u001b[0m in \u001b[0;36m<module>\u001b[0;34m()\u001b[0m\n\u001b[1;32m      5\u001b[0m \u001b[0;34m\u001b[0m\u001b[0m\n\u001b[1;32m      6\u001b[0m \u001b[0;34m\u001b[0m\u001b[0m\n\u001b[0;32m----> 7\u001b[0;31m \u001b[0mim_resize\u001b[0m \u001b[0;34m=\u001b[0m \u001b[0mcv2\u001b[0m\u001b[0;34m.\u001b[0m\u001b[0mresize\u001b[0m\u001b[0;34m(\u001b[0m\u001b[0mim_raw\u001b[0m\u001b[0;34m,\u001b[0m \u001b[0;34m(\u001b[0m\u001b[0;36m586\u001b[0m\u001b[0;34m,\u001b[0m \u001b[0;36m391\u001b[0m\u001b[0;34m)\u001b[0m\u001b[0;34m)\u001b[0m\u001b[0;34m\u001b[0m\u001b[0m\n\u001b[0m\u001b[1;32m      8\u001b[0m \u001b[0mycrcb\u001b[0m \u001b[0;34m=\u001b[0m \u001b[0mcv2\u001b[0m\u001b[0;34m.\u001b[0m\u001b[0mcvtColor\u001b[0m\u001b[0;34m(\u001b[0m\u001b[0mim_resize\u001b[0m\u001b[0;34m,\u001b[0m \u001b[0mcv2\u001b[0m\u001b[0;34m.\u001b[0m\u001b[0mCOLOR_RGB2YCR_CB\u001b[0m\u001b[0;34m)\u001b[0m\u001b[0;34m\u001b[0m\u001b[0m\n\u001b[1;32m      9\u001b[0m \u001b[0;34m\u001b[0m\u001b[0m\n",
      "\u001b[0;31merror\u001b[0m: OpenCV(3.4.2-openvino_2018_R2.0.0) /home/jenkins/workspace/OpenCV/OpenVINO/build/opencv/modules/imgproc/src/resize.cpp:4044: error: (-215:Assertion failed) !ssize.empty() in function 'resize'\n"
     ]
    }
   ],
   "source": [
    "net = caffe.Net(caffe_root + 'examples/SRCNN/SRCNN.prototxt',\n",
    "                       caffe_root + 'examples/SRCNN/SRCNN_iter_11112465.caffemodel', caffe.TEST)\n",
    "# Inputs\n",
    "im_raw = cv2.imread('./Test/Set14/face_2.bmp')\n",
    "\n",
    "\n",
    "im_resize = cv2.resize(im_raw, (586, 391))\n",
    "ycrcb = cv2.cvtColor(im_resize, cv2.COLOR_RGB2YCR_CB)\n",
    "\n",
    "im_resize = ycrcb[:,:,0]\n",
    "im_resize = im_resize.reshape((im_resize.shape[0], im_resize.shape[1], 1))\n",
    "\n",
    "# Switch input\n",
    "im_input = im_resize\n",
    "\n",
    "# plt.show()\n",
    "\n",
    "\n",
    "caffe_transformer = caffe.io.Transformer({'data': net.blobs['data'].data.shape})\n",
    "caffe_transformer.set_transpose('data', (2, 0, 1))\n",
    "caffe_transformer.set_raw_scale('data', 255.0)\n",
    "\n",
    "start_time = time.time()\n",
    "out = net.forward_all(data=np.asarray([caffe_transformer.preprocess('data', im_input.astype(float)/255)]))\n",
    "infer_time = (time.time() - start_time)*1000\n",
    "print('infer time: ', infer_time)\n",
    "\n",
    "# Predict results\n",
    "mat = out['conv3'][0]\n",
    "\n",
    "# Show\n",
    "\n",
    "ycrcb = ycrcb[5:-5,5:-5,:]\n",
    "im_pred = colorize(mat[0,:,:], ycrcb)\n",
    "im_pred = cv2.resize(im_pred, (im_raw.shape[1],im_raw.shape[0]))\n",
    "\n",
    "cv2.imshow('prediction',im_pred)\n",
    "cv2.imshow('input',im_raw)\n",
    "cv2.waitKey(0)\n",
    "cv2.destroyAllWindows()"
   ]
  },
  {
   "cell_type": "code",
   "execution_count": null,
   "metadata": {},
   "outputs": [],
   "source": []
  }
 ],
 "metadata": {
  "kernelspec": {
   "display_name": "Python 3",
   "language": "python",
   "name": "python3"
  },
  "language_info": {
   "codemirror_mode": {
    "name": "ipython",
    "version": 3
   },
   "file_extension": ".py",
   "mimetype": "text/x-python",
   "name": "python",
   "nbconvert_exporter": "python",
   "pygments_lexer": "ipython3",
   "version": "3.5.2"
  }
 },
 "nbformat": 4,
 "nbformat_minor": 1
}
