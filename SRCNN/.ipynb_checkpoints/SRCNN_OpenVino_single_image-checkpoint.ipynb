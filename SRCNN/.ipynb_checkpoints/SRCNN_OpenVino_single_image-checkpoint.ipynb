{
 "metadata": {
  "kernelspec": {
   "display_name": "Python 2",
   "language": "python",
   "name": "python2"
  },
  "language_info": {
   "codemirror_mode": {
    "name": "ipython",
    "version": 2
   },
   "file_extension": ".py",
   "mimetype": "text/x-python",
   "name": "python",
   "nbconvert_exporter": "python",
   "pygments_lexer": "ipython2",
   "version": "2.7.5"
  },
  "name": "",
  "signature": "sha256:8276134ec30df03b7ceb88f1b1832a22509e306860ff08ab5ff433ea8f7dcec5"
 },
 "nbformat": 3,
 "nbformat_minor": 0,
 "worksheets": [
  {
   "cells": [
    {
     "cell_type": "code",
     "collapsed": false,
     "input": [
      "#!/usr/bin/env python\n",
      "import os\n",
      "import numpy as np\n",
      "import matplotlib.pyplot as plt\n",
      "%matplotlib inline\n",
      "import cv2\n",
      "import imutils"
     ],
     "language": "python",
     "metadata": {},
     "outputs": [],
     "prompt_number": 15
    },
    {
     "cell_type": "code",
     "collapsed": false,
     "input": [
      "from __future__ import print_function\n",
      "import sys\n",
      "#from argparse import ArgumentParser\n",
      "import time\n",
      "\n",
      "from openvino.inference_engine import IENetwork, IEPlugin"
     ],
     "language": "python",
     "metadata": {},
     "outputs": [],
     "prompt_number": 16
    },
    {
     "cell_type": "code",
     "collapsed": false,
     "input": [
      "def colorize(y, ycrcb):\n",
      "    y[y>255] = 255\n",
      "    y[y<0] = 0\n",
      "\n",
      "    img = np.zeros((y.shape[0], y.shape[1], 3), np.uint8)\n",
      "    img[:,:,0] = y\n",
      "    img[:,:,1] = ycrcb[:,:,1]\n",
      "    img[:,:,2] = ycrcb[:,:,2]\n",
      "    img = cv2.cvtColor(img, cv2.COLOR_YCR_CB2RGB)\n",
      "    \n",
      "    return img\n",
      "\n",
      "# PSNR measure, from ANR's code\n",
      "def PSNR(pred, gt):\n",
      "    f = pred.astype(float)\n",
      "    g = gt.astype(float)\n",
      "    e = (f - g).flatten()\n",
      "    n = len(e)\n",
      "    rst = 10*np.log10(n/e.dot(e))\n",
      "    \n",
      "    return rst"
     ],
     "language": "python",
     "metadata": {},
     "outputs": [],
     "prompt_number": 17
    },
    {
     "cell_type": "code",
     "collapsed": false,
     "input": [
      "model_xml = \"/home/yue/caffe/caffe-master/examples/SRCNN/SRCNN_iter_11112465.xml\"\n",
      "model_bin = os.path.splitext(model_xml)[0] + \".bin\"\n",
      "prob_threshold = 0.5\n",
      "labels_map = None"
     ],
     "language": "python",
     "metadata": {},
     "outputs": [],
     "prompt_number": 18
    },
    {
     "cell_type": "code",
     "collapsed": false,
     "input": [
      "print(\"Initializing plugin for CPU device...\")\n",
      "plugin = IEPlugin(device=\"CPU\", plugin_dirs=None)"
     ],
     "language": "python",
     "metadata": {},
     "outputs": [
      {
       "output_type": "stream",
       "stream": "stdout",
       "text": [
        "Initializing plugin for CPU device...\n"
       ]
      }
     ],
     "prompt_number": 19
    },
    {
     "cell_type": "code",
     "collapsed": false,
     "input": [
      "print(\"Adding CPU extenstions...\")\n",
      "plugin.add_cpu_extension(\"/opt/intel/computer_vision_sdk/deployment_tools/inference_engine/lib/ubuntu_16.04/intel64/libcpu_extension_sse4.so\")"
     ],
     "language": "python",
     "metadata": {},
     "outputs": [
      {
       "output_type": "stream",
       "stream": "stdout",
       "text": [
        "Adding CPU extenstions...\n"
       ]
      }
     ],
     "prompt_number": 20
    },
    {
     "cell_type": "code",
     "collapsed": false,
     "input": [
      "print(\"Reading IR...\")\n",
      "net = IENetwork.from_ir(model=model_xml, weights=model_bin)\n",
      "input_blob = next(iter(net.inputs))\n",
      "out_blob = next(iter(net.outputs))"
     ],
     "language": "python",
     "metadata": {},
     "outputs": [
      {
       "output_type": "stream",
       "stream": "stdout",
       "text": [
        "Reading IR...\n"
       ]
      }
     ],
     "prompt_number": 21
    },
    {
     "cell_type": "code",
     "collapsed": false,
     "input": [
      "print(\"Loading IR to the plugin...\")\n",
      "exec_net = plugin.load(network=net, num_requests=2)\n",
      "# Read and pre-process input image\n",
      "n, c, h, w = net.inputs[input_blob]"
     ],
     "language": "python",
     "metadata": {},
     "outputs": [
      {
       "output_type": "stream",
       "stream": "stdout",
       "text": [
        "Loading IR to the plugin...\n"
       ]
      }
     ],
     "prompt_number": 22
    },
    {
     "cell_type": "code",
     "collapsed": false,
     "input": [
      "print((n, c, h, w))\n",
      "im_raw = cv2.imread('./Test/Set14/face_2.bmp')\n",
      "\n",
      "print('im_raw.shape: ', im_raw.shape)\n",
      "im_resize = im_raw.transpose((2, 0, 1))  # Change data layout from HWC to CHW\n",
      "\n",
      "im_resize = cv2.resize(im_raw, (w, h))\n",
      "ycrcb = cv2.cvtColor(im_resize, cv2.COLOR_RGB2YCR_CB)\n",
      "\n",
      "print('ycrcb.shape: ', ycrcb.shape)\n",
      "im_resize = ycrcb[:,:,0]\n",
      "im_resize = im_resize.reshape((im_resize.shape[0], im_resize.shape[1], 1))\n",
      "print('im_resize.shape: ', im_resize.shape)\n",
      "im_input = im_resize\n",
      "\n",
      "im_input = im_input.reshape((n, c, h, w))\n",
      "print('im_input.shape: ', im_input.shape)\n"
     ],
     "language": "python",
     "metadata": {},
     "outputs": [
      {
       "output_type": "stream",
       "stream": "stdout",
       "text": [
        "(1, 1, 393, 588)\n",
        "im_raw.shape:  (658, 500, 3)\n",
        "ycrcb.shape:  (393, 588, 3)\n",
        "im_resize.shape:  (393, 588, 1)\n",
        "im_input.shape:  (1, 1, 393, 588)\n"
       ]
      }
     ],
     "prompt_number": 23
    },
    {
     "cell_type": "code",
     "collapsed": false,
     "input": [
      "res = exec_net.infer(inputs={input_blob: im_input})"
     ],
     "language": "python",
     "metadata": {},
     "outputs": [],
     "prompt_number": 24
    },
    {
     "cell_type": "code",
     "collapsed": false,
     "input": [
      "mat = res['conv3'];\n",
      "mat = np.squeeze(mat, axis=0)\n",
      "print(mat.shape)"
     ],
     "language": "python",
     "metadata": {},
     "outputs": [
      {
       "output_type": "stream",
       "stream": "stdout",
       "text": [
        "(1, 381, 576)\n"
       ]
      }
     ],
     "prompt_number": 25
    },
    {
     "cell_type": "code",
     "collapsed": false,
     "input": [
      "ycrcb = ycrcb[6:-6,6:-6,:]\n",
      "print('ycrcb.shape: ', ycrcb.shape)"
     ],
     "language": "python",
     "metadata": {},
     "outputs": [
      {
       "output_type": "stream",
       "stream": "stdout",
       "text": [
        "ycrcb.shape:  (381, 576, 3)\n"
       ]
      }
     ],
     "prompt_number": 26
    },
    {
     "cell_type": "code",
     "collapsed": false,
     "input": [
      "im_pred = colorize(mat[0,:,:], ycrcb)\n",
      "im_pred = cv2.resize(im_pred, (im_raw.shape[1],im_raw.shape[0]))\n",
      "print('im_pred.shape', im_pred.shape)\n"
     ],
     "language": "python",
     "metadata": {},
     "outputs": [
      {
       "output_type": "stream",
       "stream": "stdout",
       "text": [
        "im_pred.shape (658, 500, 3)\n"
       ]
      }
     ],
     "prompt_number": 27
    },
    {
     "cell_type": "code",
     "collapsed": false,
     "input": [
      "cv2.imshow('prediction',im_pred)\n",
      "cv2.imshow('input', im_raw)\n",
      "cv2.waitKey(0)\n",
      "cv2.destroyAllWindows()"
     ],
     "language": "python",
     "metadata": {},
     "outputs": [],
     "prompt_number": 28
    },
    {
     "cell_type": "code",
     "collapsed": false,
     "input": [],
     "language": "python",
     "metadata": {},
     "outputs": [],
     "prompt_number": 28
    }
   ],
   "metadata": {}
  }
 ]
}