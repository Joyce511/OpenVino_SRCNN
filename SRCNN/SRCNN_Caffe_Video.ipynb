{
 "cells": [
  {
   "cell_type": "code",
   "execution_count": 11,
   "metadata": {},
   "outputs": [],
   "source": [
    "#!/usr/bin/env python\n",
    "import os\n",
    "import numpy as np\n",
    "import matplotlib.pyplot as plt\n",
    "import cv2\n",
    "import time\n",
    "%matplotlib inline\n",
    "# Make sure that caffe is on the python path:\n",
    "caffe_root = '/home/yue/caffe-rc5/'  # this file is expected to be in {caffe_root}/examples\n",
    "import sys\n",
    "sys.path.insert(0, caffe_root + 'python')\n",
    "\n",
    "import caffe\n",
    "net = caffe.Net(caffe_root + 'examples/SRCNN/SRCNN.prototxt',\n",
    "                       caffe_root + 'examples/SRCNN/SRCNN_iter_11112465.caffemodel', caffe.TEST)"
   ]
  },
  {
   "cell_type": "code",
   "execution_count": 12,
   "metadata": {},
   "outputs": [],
   "source": [
    "def colorize(y, ycrcb):\n",
    "    y[y>255] = 255\n",
    "    y[y<0] = 0\n",
    "\n",
    "    img = np.zeros((y.shape[0], y.shape[1], 3), np.uint8)\n",
    "    img[:,:,0] = y\n",
    "    img[:,:,1] = ycrcb[:,:,1]\n",
    "    img[:,:,2] = ycrcb[:,:,2]\n",
    "    img = cv2.cvtColor(img, cv2.COLOR_YCR_CB2RGB)\n",
    "    \n",
    "    return img\n",
    "\n",
    "# PSNR measure, from ANR's code\n",
    "def PSNR(pred, gt):\n",
    "    f = pred.astype(float)\n",
    "    g = gt.astype(float)\n",
    "    e = (f - g).flatten()\n",
    "    n = len(e)\n",
    "    rst = 10*np.log10(n/e.dot(e))\n",
    "    \n",
    "    return rst"
   ]
  },
  {
   "cell_type": "code",
   "execution_count": 13,
   "metadata": {},
   "outputs": [],
   "source": [
    "input_stream = \"./Test/videos/dance_lowres.mp4\"\n",
    "cap = cv2.VideoCapture(input_stream)\n",
    "cur_request_id = 0\n",
    "next_request_id = 1\n",
    "\n",
    "if (cap.isOpened()== False): \n",
    "    print(\"Error opening video stream or file\")\n",
    "\n",
    "render_time = 0\n",
    "total_time = 0\n",
    "fps = 0\n",
    "caffe_transformer = caffe.io.Transformer({'data': net.blobs['data'].data.shape})\n",
    "caffe_transformer.set_transpose('data', (2, 0, 1))\n",
    "caffe_transformer.set_raw_scale('data', 255.0)"
   ]
  },
  {
   "cell_type": "code",
   "execution_count": 14,
   "metadata": {},
   "outputs": [
    {
     "name": "stderr",
     "output_type": "stream",
     "text": [
      "/home/yue/.local/lib/python3.5/site-packages/skimage/transform/_warps.py:105: UserWarning: The default mode, 'constant', will be changed to 'reflect' in skimage 0.15.\n",
      "  warn(\"The default mode, 'constant', will be changed to 'reflect' in \"\n",
      "/home/yue/.local/lib/python3.5/site-packages/skimage/transform/_warps.py:110: UserWarning: Anti-aliasing will be enabled by default in skimage 0.15 to avoid aliasing artifacts when down-sampling images.\n",
      "  warn(\"Anti-aliasing will be enabled by default in skimage 0.15 to \"\n"
     ]
    }
   ],
   "source": [
    "while cap.isOpened():\n",
    "        total_start = time.time()\n",
    "        ret, frame = cap.read()\n",
    "        if not ret:\n",
    "            break\n",
    "        \n",
    "        initial_w = cap.get(3)\n",
    "        initial_h = cap.get(4)\n",
    "        \n",
    "        im_raw = cv2.resize(frame, (586, 391))\n",
    "        \n",
    "        im_resize = im_raw.transpose((2, 0, 1))  # Change data layout from HWC to CHW\n",
    "\n",
    "        im_resize = cv2.resize(im_raw, (586, 391))\n",
    "        ycrcb = cv2.cvtColor(im_resize, cv2.COLOR_RGB2YCR_CB)\n",
    "\n",
    "        #print('ycrcb.shape: ', ycrcb.shape)\n",
    "        im_resize = ycrcb[:,:,0]\n",
    "        im_resize = im_resize.reshape((im_resize.shape[0], im_resize.shape[1], 1))\n",
    "        #print('im_resize.shape: ', im_resize.shape)\n",
    "        im_input = im_resize\n",
    "        infer_start = time.time()\n",
    "        out = net.forward_all(data=np.asarray([caffe_transformer.preprocess('data', im_input.astype(float)/255)]))\n",
    "        det_time = time.time() - infer_start\n",
    "        # Predict results\n",
    "        mat = out['conv3'][0]\n",
    "\n",
    "        ycrcb = ycrcb[5:-5,5:-5,:]\n",
    "        im_pred = colorize(mat[0,:,:], ycrcb)\n",
    "        im_pred = cv2.resize(im_pred, (im_raw.shape[1],im_raw.shape[0]))\n",
    "\n",
    "\n",
    "        #################################################################################################################\n",
    "        # Draw performance stats\n",
    "\n",
    "        inf_time_message = \"Inference time: {:.3f} ms\".format(det_time * 1000)\n",
    "        render_time_message = \"OpenCV rendering time: {:.3f} ms\".format(render_time * 1000)\n",
    "        total_time_message = \"Total Time Taken per Frame: {:.3f} ms\".format(total_time * 1000)\n",
    "        fps_message = \"FPS: {:.1f}\".format(fps);\n",
    "\n",
    "        cv2.putText(im_pred, inf_time_message, (15, 15), cv2.FONT_HERSHEY_COMPLEX, 0.5, (200, 10, 10), 1)\n",
    "        cv2.putText(im_pred, render_time_message, (15, 30), cv2.FONT_HERSHEY_COMPLEX, 0.5, (10, 10, 200), 1)\n",
    "        cv2.putText(im_pred, total_time_message, (15, 45), cv2.FONT_HERSHEY_COMPLEX, 0.5, (10, 10, 200), 1)\n",
    "        cv2.putText(im_pred, fps_message, (15, 60), cv2.FONT_HERSHEY_COMPLEX, 0.5, (10, 10, 200), 1)\n",
    "        \n",
    "        \n",
    "        \n",
    "        \n",
    "        render_start = time.time()\n",
    "        cv2.imshow(\"SR\", im_pred)\n",
    "        cv2.imshow(\"Original\", im_raw)\n",
    "        #plt.imshow(img_show)\n",
    "        \n",
    "        render_end = time.time()\n",
    "        render_time = render_end - render_start\n",
    "        total_time = render_end - total_start\n",
    "        fps = float((1/total_time))\n",
    "        \n",
    "        key = cv2.waitKey(1)\n",
    "        if key == 27:\n",
    "            break\n",
    "            \n",
    "cv2.destroyAllWindows()"
   ]
  },
  {
   "cell_type": "code",
   "execution_count": null,
   "metadata": {},
   "outputs": [],
   "source": []
  }
 ],
 "metadata": {
  "kernelspec": {
   "display_name": "Python 3",
   "language": "python",
   "name": "python3"
  },
  "language_info": {
   "codemirror_mode": {
    "name": "ipython",
    "version": 3
   },
   "file_extension": ".py",
   "mimetype": "text/x-python",
   "name": "python",
   "nbconvert_exporter": "python",
   "pygments_lexer": "ipython3",
   "version": "3.5.2"
  }
 },
 "nbformat": 4,
 "nbformat_minor": 1
}
